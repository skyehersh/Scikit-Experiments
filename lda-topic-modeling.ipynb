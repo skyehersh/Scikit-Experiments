{
 "cells": [
  {
   "cell_type": "markdown",
   "metadata": {},
   "source": [
    "# Topic modeling: *The Human Side of Animals*\n",
    "\n",
    "For a homework assignment on Latent Dirichlet Allocations, I decided to try topic modeling for *The Human Side of Animals* (1918) by Royal Dixon (wow, real name), author of *The Human Side of Plants* (1885) and *The Human Side of Trees* (1917). In the anthropomorphizing spirit of Mr. Dixon, we'll take a look at the human side of machines and see if we can generate a tidy gist of his work without reading it ourselves. Book from Project Gutenberg.\n",
    "\n",
    "### Preprocessing"
   ]
  },
  {
   "cell_type": "code",
   "execution_count": 8,
   "metadata": {
    "collapsed": true
   },
   "outputs": [],
   "source": [
    "import string\n",
    "from nltk.corpus import stopwords\n",
    "from collections import OrderedDict\n",
    "import re\n",
    "import pandas as pd"
   ]
  },
  {
   "cell_type": "code",
   "execution_count": 9,
   "metadata": {
    "collapsed": false
   },
   "outputs": [],
   "source": [
    "pd.set_option('display.max_colwidth', 200)"
   ]
  },
  {
   "cell_type": "code",
   "execution_count": 10,
   "metadata": {
    "collapsed": false
   },
   "outputs": [
    {
     "data": {
      "text/plain": [
       "['  CONTENTS\\r\\n',\n",
       " '\\r\\n',\n",
       " '  CHAPTER                                                  PAGE\\r\\n',\n",
       " '\\r\\n',\n",
       " '  FOREWORD                                                 \\r\\n',\n",
       " '\\r\\n',\n",
       " '  1 ANIMALS THAT PRACTISE CAMOUFLAGE                          1\\r\\n',\n",
       " '\\r\\n',\n",
       " '  2 ANIMAL MUSICIANS                                        18\\r\\n',\n",
       " '\\r\\n',\n",
       " '  3 ANIMALS AT PLAY                                        32\\r\\n',\n",
       " '\\r\\n',\n",
       " '  4 ARMOUR-BEARING AND MAIL-CLAD ANIMALS                    46\\r\\n',\n",
       " '\\r\\n',\n",
       " '  5 MINERS AND EXCAVATORS                                    61\\r\\n',\n",
       " '\\r\\n',\n",
       " '  6 ANIMAL MATHEMATICIANS                                   88\\r\\n',\n",
       " '\\r\\n',\n",
       " '  7 THE LANGUAGE OF ANIMALS                                99\\r\\n',\n",
       " '\\r\\n',\n",
       " '  8 IN THEIR BOUDOIRS, HOSPITALS AND CHURCHES            120\\r\\n',\n",
       " '\\r\\n',\n",
       " '  9 SELF-DEFENCE AND HOME-GOVERNMENT                       130\\r\\n',\n",
       " '\\r\\n',\n",
       " '  10 ARCHITECTS, ENGINEERS, AND HOUSE-BUILDERS             150\\r\\n',\n",
       " '\\r\\n',\n",
       " '  11 FOOD CONSERVERS                                        170\\r\\n',\n",
       " '\\r\\n',\n",
       " '  12 TOURISTS AND SIGHT-SEERS                              181\\r\\n',\n",
       " '\\r\\n',\n",
       " '  13 ANIMAL SCAVENGERS AND CRIMINALS                      199\\r\\n',\n",
       " '\\r\\n',\n",
       " '  14 AS THE ALLIES OF MAN                                  210\\r\\n',\n",
       " '\\r\\n',\n",
       " '  15 THE FUTURE LIFE OF ANIMALS                             234\\r\\n',\n",
       " '\\r\\n',\n",
       " '\\r\\n',\n",
       " '\\r\\n',\n",
       " '\\r\\n']"
      ]
     },
     "execution_count": 10,
     "metadata": {},
     "output_type": "execute_result"
    }
   ],
   "source": [
    "### First, let's extract the table of contents\n",
    "### so that we can pull each chapter from the book\n",
    "\n",
    "with open('data-files/animals.txt', 'r') as book:\n",
    "    t = book.readlines()\n",
    "\n",
    "contents  = []    \n",
    "contents_table = False\n",
    "\n",
    "for line in t:\n",
    "    \n",
    "    if 'CONTENTS' in line:\n",
    "        contents_table = True\n",
    "        \n",
    "    if 'ILLUSTRATIONS\\r\\n' in line:\n",
    "        contents_table = False\n",
    "    \n",
    "    if contents_table is True:\n",
    "        contents.append(line)\n",
    "\n",
    "contents"
   ]
  },
  {
   "cell_type": "code",
   "execution_count": 11,
   "metadata": {
    "collapsed": false
   },
   "outputs": [
    {
     "data": {
      "text/plain": [
       "['FOREWORD',\n",
       " 'ANIMALS THAT PRACTISE CAMOUFLAGE',\n",
       " 'ANIMAL MUSICIANS',\n",
       " 'ANIMALS AT PLAY',\n",
       " 'ARMOUR-BEARING AND MAIL-CLAD ANIMALS',\n",
       " 'MINERS AND EXCAVATORS',\n",
       " 'ANIMAL MATHEMATICIANS',\n",
       " 'THE LANGUAGE OF ANIMALS',\n",
       " 'IN THEIR BOUDOIRS, HOSPITALS AND CHURCHES',\n",
       " 'SELF-DEFENCE AND HOME-GOVERNMENT',\n",
       " 'ARCHITECTS, ENGINEERS, AND HOUSE-BUILDERS',\n",
       " 'FOOD CONSERVERS',\n",
       " 'TOURISTS AND SIGHT-SEERS',\n",
       " 'ANIMAL SCAVENGERS AND CRIMINALS',\n",
       " 'AS THE ALLIES OF MAN',\n",
       " 'THE FUTURE LIFE OF ANIMALS']"
      ]
     },
     "execution_count": 11,
     "metadata": {},
     "output_type": "execute_result"
    }
   ],
   "source": [
    "### Okay, neaten up table of contents\n",
    "\n",
    "non_chapters = ['CONTENTS', 'CHAPTER']        \n",
    "\n",
    "contents = [c.strip() for c in contents]\n",
    "contents = [c for c in contents if c != '']\n",
    "contents = [c for c in contents if \n",
    "              not any([n in c for n in non_chapters])]\n",
    "contents = [re.sub(\"\\s\\s+\" , \" \", c) for c in contents]\n",
    "\n",
    "chapter_names = []\n",
    "\n",
    "for c in contents:\n",
    "    \n",
    "    name = []\n",
    "    for w in c.split():\n",
    "        try:\n",
    "            int(w)\n",
    "        except ValueError:\n",
    "            name.append(w)\n",
    "            \n",
    "    chapter_names.append(' '.join(name))\n",
    "    \n",
    "chapter_names"
   ]
  },
  {
   "cell_type": "code",
   "execution_count": 12,
   "metadata": {
    "collapsed": true
   },
   "outputs": [],
   "source": [
    "def extract_chapters(path_to_book, table_contents_end):\n",
    "    '''Return a dataframe holding each chapter\n",
    "        of the book, indexed by chapter title.\n",
    "        \n",
    "        ---- Params ----\n",
    "        path_to_book : path\n",
    "        table_contents_end : hard code a line from the \n",
    "            book that comes right after table of contents\n",
    "        '''\n",
    "    \n",
    "    with open(path_to_book, 'r') as book:\n",
    "        b = book.read()\n",
    "\n",
    "    chapter_dict = OrderedDict()\n",
    "\n",
    "    end_contents = b.find(table_contents_end) + len(table_contents_end)\n",
    "    b = b[end_contents:]\n",
    "\n",
    "    chapter_idxs = []\n",
    "\n",
    "    for chapter in chapter_names:\n",
    "        idx = b.find(chapter) + len(chapter)\n",
    "        chapter_idxs.append(idx)\n",
    "        \n",
    "    end_of_book = '*** END OF THIS PROJECT GUTENBERG EBOOK'\n",
    "    end_idx = b.find(end_of_book) + len(end_of_book)\n",
    "\n",
    "    chapter_idxs.append(end_idx)\n",
    "    chapter_bounds = zip(chapter_idxs, chapter_idxs[1:])\n",
    "\n",
    "    for i in range(len(chapter_names)):\n",
    "        start, end = chapter_bounds[i]\n",
    "        chapter_name = chapter_names[i]\n",
    "        curr_chap = b[start : end]\n",
    "        chapter_dict[chapter_name] = curr_chap\n",
    "\n",
    "    df = pd.DataFrame.from_dict(chapter_dict, orient='index')\n",
    "    df.columns = ['raw_text']\n",
    "\n",
    "    return df"
   ]
  },
  {
   "cell_type": "code",
   "execution_count": 13,
   "metadata": {
    "collapsed": true
   },
   "outputs": [],
   "source": [
    "def clean_df(df):\n",
    "    '''Clean up the text contained in df,\n",
    "        making new columns with progressively\n",
    "        tidier text'''\n",
    "\n",
    "    # Establish stopwords\n",
    "    sw = set(stopwords.words('english'))\n",
    "\n",
    "    # Remove punctuation & make lowercase\n",
    "    df['no_punctuation'] = df.raw_text.map(\n",
    "        lambda x: x.translate(None, string.punctuation).lower())\n",
    "\n",
    "    # Remove stopwords from lowercased, punc-free text\n",
    "    df['no_stopwords'] = df.no_punctuation.map(\n",
    "        lambda x: [word for word in x.split() if word not in sw])\n",
    "\n",
    "    df['no_stopwords'] = df.no_stopwords.map(\n",
    "        lambda x: \" \".join(x))\n",
    "\n",
    "    return df"
   ]
  },
  {
   "cell_type": "code",
   "execution_count": 16,
   "metadata": {
    "collapsed": false
   },
   "outputs": [
    {
     "data": {
      "text/html": [
       "<div>\n",
       "<style>\n",
       "    .dataframe thead tr:only-child th {\n",
       "        text-align: right;\n",
       "    }\n",
       "\n",
       "    .dataframe thead th {\n",
       "        text-align: left;\n",
       "    }\n",
       "\n",
       "    .dataframe tbody tr th {\n",
       "        vertical-align: top;\n",
       "    }\n",
       "</style>\n",
       "<table border=\"1\" class=\"dataframe\">\n",
       "  <thead>\n",
       "    <tr style=\"text-align: right;\">\n",
       "      <th></th>\n",
       "      <th>raw_text</th>\n",
       "      <th>no_punctuation</th>\n",
       "      <th>no_stopwords</th>\n",
       "    </tr>\n",
       "  </thead>\n",
       "  <tbody>\n",
       "    <tr>\n",
       "      <th>FOREWORD</th>\n",
       "      <td>\\r\\n\\r\\n  _\"And in the lion or the frog--\\r\\n  In all the life of moor or fen--\\r\\n  In ass and peacock, stork and dog,\\r\\n  He read similitudes of men.\"_\\r\\n\\r\\nMore and more science is being tau...</td>\n",
       "      <td>\\r\\n\\r\\n  and in the lion or the frog\\r\\n  in all the life of moor or fen\\r\\n  in ass and peacock stork and dog\\r\\n  he read similitudes of men\\r\\n\\r\\nmore and more science is being taught in a ne...</td>\n",
       "      <td>lion frog life moor fen ass peacock stork dog read similitudes men science taught new way men beginning discard lumber brains workshop get real facts real conclusions laboratories experiments tabl...</td>\n",
       "    </tr>\n",
       "    <tr>\n",
       "      <th>ANIMALS THAT PRACTISE CAMOUFLAGE</th>\n",
       "      <td>\\r\\n\\r\\n  _\"She was a gordian shape of dazzling line,\\r\\n  Vermilion-spotted, golden, green and blue;\\r\\n  Striped like a zebra, freckled like a pard,\\r\\n  Eyed like a peacock, and all crimson bar...</td>\n",
       "      <td>\\r\\n\\r\\n  she was a gordian shape of dazzling line\\r\\n  vermilionspotted golden green and blue\\r\\n  striped like a zebra freckled like a pard\\r\\n  eyed like a peacock and all crimson barrd\\r\\n  an...</td>\n",
       "      <td>gordian shape dazzling line vermilionspotted golden green blue striped like zebra freckled like pard eyed like peacock crimson barrd full silver moons breathed dissolved brighter shone interwreath...</td>\n",
       "    </tr>\n",
       "    <tr>\n",
       "      <th>ANIMAL MUSICIANS</th>\n",
       "      <td>\\r\\n\\r\\n  _\"Nay, what is Nature's self,\\r\\n  But an endless strife towards\\r\\n  Music, euphony, rhyme?\"_\\r\\n\\r\\n  --WATSON.\\r\\n\\r\\n\\r\\nThe great thinkers of the age believe that the world is one m...</td>\n",
       "      <td>\\r\\n\\r\\n  nay what is natures self\\r\\n  but an endless strife towards\\r\\n  music euphony rhyme\\r\\n\\r\\n  watson\\r\\n\\r\\n\\r\\nthe great thinkers of the age believe that the world is one marvellous\\r\\n...</td>\n",
       "      <td>nay natures self endless strife towards music euphony rhyme watson great thinkers age believe world one marvellous blending innumerable varied voices unison sound forms great music spheres poets p...</td>\n",
       "    </tr>\n",
       "    <tr>\n",
       "      <th>ANIMALS AT PLAY</th>\n",
       "      <td>\\r\\n\\r\\n  _\"... _About them frisking, played\\r\\n  All beasts of the earth, since wild, and of all chase\\r\\n  In wood or wilderness, forest or den;\\r\\n  Sporting the lion romped, and in his paw\\r\\n...</td>\n",
       "      <td>\\r\\n\\r\\n   about them frisking played\\r\\n  all beasts of the earth since wild and of all chase\\r\\n  in wood or wilderness forest or den\\r\\n  sporting the lion romped and in his paw\\r\\n  dandled th...</td>\n",
       "      <td>frisking played beasts earth since wild chase wood wilderness forest den sporting lion romped paw dandled kid bears tigers ounces pards gambled unwieldy elephant make mirth used might wreathed lig...</td>\n",
       "    </tr>\n",
       "    <tr>\n",
       "      <th>ARMOUR-BEARING AND MAIL-CLAD ANIMALS</th>\n",
       "      <td>\\r\\n\\r\\n  _\"The spectacle of Nature is always new, for she is always\\r\\n  renewing the spectators. Life is her most exquisite invention;\\r\\n  and death is her expert contrivance to get plenty of l...</td>\n",
       "      <td>\\r\\n\\r\\n  the spectacle of nature is always new for she is always\\r\\n  renewing the spectators life is her most exquisite invention\\r\\n  and death is her expert contrivance to get plenty of life\\r...</td>\n",
       "      <td>spectacle nature always new always renewing spectators life exquisite invention death expert contrivance get plenty life goethes aphorisms trans huxley civilised nations throughout world different...</td>\n",
       "    </tr>\n",
       "  </tbody>\n",
       "</table>\n",
       "</div>"
      ],
      "text/plain": [
       "                                                                                                                                                                                                                                     raw_text  \\\n",
       "FOREWORD                              \\r\\n\\r\\n  _\"And in the lion or the frog--\\r\\n  In all the life of moor or fen--\\r\\n  In ass and peacock, stork and dog,\\r\\n  He read similitudes of men.\"_\\r\\n\\r\\nMore and more science is being tau...   \n",
       "ANIMALS THAT PRACTISE CAMOUFLAGE      \\r\\n\\r\\n  _\"She was a gordian shape of dazzling line,\\r\\n  Vermilion-spotted, golden, green and blue;\\r\\n  Striped like a zebra, freckled like a pard,\\r\\n  Eyed like a peacock, and all crimson bar...   \n",
       "ANIMAL MUSICIANS                      \\r\\n\\r\\n  _\"Nay, what is Nature's self,\\r\\n  But an endless strife towards\\r\\n  Music, euphony, rhyme?\"_\\r\\n\\r\\n  --WATSON.\\r\\n\\r\\n\\r\\nThe great thinkers of the age believe that the world is one m...   \n",
       "ANIMALS AT PLAY                       \\r\\n\\r\\n  _\"... _About them frisking, played\\r\\n  All beasts of the earth, since wild, and of all chase\\r\\n  In wood or wilderness, forest or den;\\r\\n  Sporting the lion romped, and in his paw\\r\\n...   \n",
       "ARMOUR-BEARING AND MAIL-CLAD ANIMALS  \\r\\n\\r\\n  _\"The spectacle of Nature is always new, for she is always\\r\\n  renewing the spectators. Life is her most exquisite invention;\\r\\n  and death is her expert contrivance to get plenty of l...   \n",
       "\n",
       "                                                                                                                                                                                                                               no_punctuation  \\\n",
       "FOREWORD                              \\r\\n\\r\\n  and in the lion or the frog\\r\\n  in all the life of moor or fen\\r\\n  in ass and peacock stork and dog\\r\\n  he read similitudes of men\\r\\n\\r\\nmore and more science is being taught in a ne...   \n",
       "ANIMALS THAT PRACTISE CAMOUFLAGE      \\r\\n\\r\\n  she was a gordian shape of dazzling line\\r\\n  vermilionspotted golden green and blue\\r\\n  striped like a zebra freckled like a pard\\r\\n  eyed like a peacock and all crimson barrd\\r\\n  an...   \n",
       "ANIMAL MUSICIANS                      \\r\\n\\r\\n  nay what is natures self\\r\\n  but an endless strife towards\\r\\n  music euphony rhyme\\r\\n\\r\\n  watson\\r\\n\\r\\n\\r\\nthe great thinkers of the age believe that the world is one marvellous\\r\\n...   \n",
       "ANIMALS AT PLAY                       \\r\\n\\r\\n   about them frisking played\\r\\n  all beasts of the earth since wild and of all chase\\r\\n  in wood or wilderness forest or den\\r\\n  sporting the lion romped and in his paw\\r\\n  dandled th...   \n",
       "ARMOUR-BEARING AND MAIL-CLAD ANIMALS  \\r\\n\\r\\n  the spectacle of nature is always new for she is always\\r\\n  renewing the spectators life is her most exquisite invention\\r\\n  and death is her expert contrivance to get plenty of life\\r...   \n",
       "\n",
       "                                                                                                                                                                                                                                 no_stopwords  \n",
       "FOREWORD                              lion frog life moor fen ass peacock stork dog read similitudes men science taught new way men beginning discard lumber brains workshop get real facts real conclusions laboratories experiments tabl...  \n",
       "ANIMALS THAT PRACTISE CAMOUFLAGE      gordian shape dazzling line vermilionspotted golden green blue striped like zebra freckled like pard eyed like peacock crimson barrd full silver moons breathed dissolved brighter shone interwreath...  \n",
       "ANIMAL MUSICIANS                      nay natures self endless strife towards music euphony rhyme watson great thinkers age believe world one marvellous blending innumerable varied voices unison sound forms great music spheres poets p...  \n",
       "ANIMALS AT PLAY                       frisking played beasts earth since wild chase wood wilderness forest den sporting lion romped paw dandled kid bears tigers ounces pards gambled unwieldy elephant make mirth used might wreathed lig...  \n",
       "ARMOUR-BEARING AND MAIL-CLAD ANIMALS  spectacle nature always new always renewing spectators life exquisite invention death expert contrivance get plenty life goethes aphorisms trans huxley civilised nations throughout world different...  "
      ]
     },
     "execution_count": 16,
     "metadata": {},
     "output_type": "execute_result"
    }
   ],
   "source": [
    "book = extract_chapters('data-files/animals.txt', 'ILLUSTRATIONS\\r\\n')\n",
    "book = clean_df(book)\n",
    "\n",
    "book.head()"
   ]
  },
  {
   "cell_type": "markdown",
   "metadata": {},
   "source": [
    "### LDA modeling\n",
    "\n",
    "First I'll fit the LDA to the entire corpus, all 16 chapters of the book, and we'll see what the top 10 topics are."
   ]
  },
  {
   "cell_type": "code",
   "execution_count": 17,
   "metadata": {
    "collapsed": false
   },
   "outputs": [
    {
     "name": "stdout",
     "output_type": "stream",
     "text": [
      "Topic 0:\n",
      "young play great man life home ground long dog two\n",
      "Topic 1:\n",
      "man small life death dog old could beasts large said\n",
      "Topic 2:\n",
      "young language man among white colour enemies life long home\n",
      "Topic 3:\n",
      "language life something dogs polar understood habitat leaves come claimed\n",
      "Topic 4:\n",
      "among body great live means man language two enemies food\n",
      "Topic 5:\n",
      "great home music small food water large feet young long\n",
      "Topic 6:\n",
      "beaver heart red around home long scientists day america tiny\n",
      "Topic 7:\n",
      "man dog life among two great language time dogs could\n",
      "Topic 8:\n",
      "man great use life language small food water play much\n",
      "Topic 9:\n",
      "among dog food two home time enemies man escape fox\n",
      "\n"
     ]
    }
   ],
   "source": [
    "from sklearn.decomposition import LatentDirichletAllocation\n",
    "from sklearn.feature_extraction.text import CountVectorizer\n",
    "\n",
    "n_features = 1000\n",
    "n_topics = 10\n",
    "n_top_words = 10\n",
    "\n",
    "lda = LatentDirichletAllocation(n_components=n_topics, \n",
    "                                max_iter=5,\n",
    "                                learning_method='online',\n",
    "                                learning_offset=50.,\n",
    "                                random_state=0)\n",
    "\n",
    "vectorizer = CountVectorizer(max_df=0.95, min_df=2,\n",
    "                             max_features=n_features)\n",
    "\n",
    "data_vect = vectorizer.fit_transform(book.no_stopwords.loc[:,])\n",
    "lda.fit(data_vect)\n",
    "\n",
    "feature_names = vectorizer.get_feature_names()\n",
    "\n",
    "for topic_idx, topic in enumerate(lda.components_):\n",
    "    print(\"Topic %.f:\" % topic_idx)\n",
    "    print \" \".join([feature_names[i] for i in topic.argsort()\n",
    "                   [:-n_top_words - 1:-1]])\n",
    "\n",
    "print "
   ]
  },
  {
   "cell_type": "markdown",
   "metadata": {},
   "source": [
    "Touching. I'm curious whether we can get more granular in order to get a better sense of each chapter's topic breakdown. I'm going to try treating each document — each chapter — as a corpus unto itself, and print its top topic."
   ]
  },
  {
   "cell_type": "code",
   "execution_count": 18,
   "metadata": {
    "collapsed": false
   },
   "outputs": [
    {
     "name": "stdout",
     "output_type": "stream",
     "text": [
      "Chapter 0: FOREWORD\n",
      "animals man love animal new life things one may long\n",
      "\n",
      "Chapter 1: ANIMALS THAT PRACTISE CAMOUFLAGE\n",
      "animals young colour one white colouration animal among even upon\n",
      "\n",
      "Chapter 2: ANIMAL MUSICIANS\n",
      "music musical us animals would one great time earth come\n",
      "\n",
      "Chapter 3: ANIMALS AT PLAY\n",
      "play one would young animals like playing delight games little\n",
      "\n",
      "Chapter 4: ARMOUR-BEARING AND MAIL-CLAD ANIMALS\n",
      "armour like animals protection enemies one mail coats spines animal\n",
      "\n",
      "Chapter 5: MINERS AND EXCAVATORS\n",
      "one home like animal animals little underground usually many food\n",
      "\n",
      "Chapter 6: ANIMAL MATHEMATICIANS\n",
      "one animals dog dogs time two man would animal knowledge\n",
      "\n",
      "Chapter 7: THE LANGUAGE OF ANIMALS\n",
      "language animals one dog words human animal ideas man understood\n",
      "\n",
      "Chapter 8: IN THEIR BOUDOIRS, HOSPITALS AND CHURCHES\n",
      "animals seek many animal one like water lying bear wound\n",
      "\n",
      "Chapter 9: SELF-DEFENCE AND HOME-GOVERNMENT\n",
      "animals one many use cases strong animal form man human\n",
      "\n",
      "Chapter 10: ARCHITECTS, ENGINEERS, AND HOUSE-BUILDERS\n",
      "beaver beavers great one water work animals little like long\n",
      "\n",
      "Chapter 11: FOOD CONSERVERS\n",
      "food small use one animals great open home men two\n",
      "\n",
      "Chapter 12: TOURISTS AND SIGHT-SEERS\n",
      "animals great one sheep roads travel animal many night like\n",
      "\n",
      "Chapter 13: ANIMAL SCAVENGERS AND CRIMINALS\n",
      "man ways animals like one among human away often common\n",
      "\n",
      "Chapter 14: AS THE ALLIES OF MAN\n",
      "animals man one human even among animal allies dog men\n",
      "\n",
      "Chapter 15: THE FUTURE LIFE OF ANIMALS\n",
      "man life animals future one beasts death bible may spirit\n",
      "\n"
     ]
    }
   ],
   "source": [
    "n_topics = 1\n",
    "\n",
    "for i in range(len(book)):\n",
    "    \n",
    "    print('Chapter {}: {}'.format(i, book.index[i]))\n",
    "\n",
    "    vectorizer = CountVectorizer(max_df=0.95, min_df=2,\n",
    "                                 max_features=n_features,\n",
    "                                )\n",
    "\n",
    "    data_vect = vectorizer.fit_transform(book.no_stopwords[i].split())\n",
    "\n",
    "    lda = LatentDirichletAllocation(n_components=n_topics, \n",
    "                                    max_iter=5,\n",
    "                                    learning_method='online',\n",
    "                                    learning_offset=50.,\n",
    "                                    random_state=0)\n",
    "\n",
    "    lda.fit(data_vect)\n",
    "\n",
    "    feature_names = vectorizer.get_feature_names()\n",
    "    \n",
    "    for topic in lda.components_:\n",
    "        print \" \".join([feature_names[i] for i in topic.argsort()\n",
    "                       [:-n_top_words - 1:-1]])\n",
    "        \n",
    "    print "
   ]
  },
  {
   "cell_type": "markdown",
   "metadata": {},
   "source": [
    "### A human pretending to be a computer pretending to be a human \n",
    "might write some counterfeit text, using the information provided from the LDA, like this:\n",
    "\n",
    "> At home underground, animals such as dogs delight in little games. One kind of animal is a dog. This is something that man has little understood. With their armor-like protection, animals usually find many kinds of food. One animal may seek another animal underground. Animals play music — they are very musical — while they wear their little coats and spines, and one day the time will come on this great earth that man and animal join together to play a little music."
   ]
  }
 ],
 "metadata": {
  "kernelspec": {
   "display_name": "Python 2",
   "language": "python",
   "name": "python2"
  },
  "language_info": {
   "codemirror_mode": {
    "name": "ipython",
    "version": 2
   },
   "file_extension": ".py",
   "mimetype": "text/x-python",
   "name": "python",
   "nbconvert_exporter": "python",
   "pygments_lexer": "ipython2",
   "version": "2.7.13"
  }
 },
 "nbformat": 4,
 "nbformat_minor": 2
}
