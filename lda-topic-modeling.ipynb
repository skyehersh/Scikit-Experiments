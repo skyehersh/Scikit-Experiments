{
 "cells": [
  {
   "cell_type": "markdown",
   "metadata": {},
   "source": [
    "# Book reviews and how to fake them\n",
    "\n",
    "For a homework assignment on Latent Dirichlet Allocations, I decided to try topic modeling for *The Human Side of Animals* (1918) by Royal Dixon (wow, real name), author of *The Human Side of Plants* and *The Human Side of Trees*. In the spirit of Mr. Dixon, we'll take a look at the human side of machines and see if we can generate a tidy little summary of his work without reading it ourselves. We'll use a Latent Dirichlet Allocation (LDA) for this.\n",
    "\n",
    "### Preprocessing"
   ]
  }
 ],
 "metadata": {
  "kernelspec": {
   "display_name": "Python 2",
   "language": "python",
   "name": "python2"
  },
  "language_info": {
   "codemirror_mode": {
    "name": "ipython",
    "version": 2
   },
   "file_extension": ".py",
   "mimetype": "text/x-python",
   "name": "python",
   "nbconvert_exporter": "python",
   "pygments_lexer": "ipython2",
   "version": "2.7.13"
  }
 },
 "nbformat": 4,
 "nbformat_minor": 2
}
