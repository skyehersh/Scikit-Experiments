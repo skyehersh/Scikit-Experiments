{
 "cells": [
  {
   "cell_type": "markdown",
   "metadata": {},
   "source": [
    "# Fraud: A how-to guide\n",
    "\n",
    "Using an anonymized set of personal banking transactions, I see if I can generate a month of fictitious transactional operations that wouldn't tip off a forensic accountant. "
   ]
  },
  {
   "cell_type": "code",
   "execution_count": null,
   "metadata": {
    "collapsed": true
   },
   "outputs": [],
   "source": [
    "%matplotlib inline"
   ]
  },
  {
   "cell_type": "code",
   "execution_count": 591,
   "metadata": {
    "collapsed": true
   },
   "outputs": [],
   "source": [
    "import pandas as pd\n",
    "import seaborn as sns\n",
    "import numpy as np\n",
    "import matplotlib.pyplot as plt\n",
    "from datetime import date\n",
    "from sklearn.neighbors.kde import KernelDensity\n",
    "import matplotlib.gridspec as gridspec\n",
    "from __future__ import division"
   ]
  },
  {
   "cell_type": "markdown",
   "metadata": {},
   "source": [
    "Here's how the data comes in:"
   ]
  },
  {
   "cell_type": "code",
   "execution_count": 165,
   "metadata": {
    "collapsed": false,
    "scrolled": true
   },
   "outputs": [
    {
     "data": {
      "text/html": [
       "<div>\n",
       "<style>\n",
       "    .dataframe thead tr:only-child th {\n",
       "        text-align: right;\n",
       "    }\n",
       "\n",
       "    .dataframe thead th {\n",
       "        text-align: left;\n",
       "    }\n",
       "\n",
       "    .dataframe tbody tr th {\n",
       "        vertical-align: top;\n",
       "    }\n",
       "</style>\n",
       "<table border=\"1\" class=\"dataframe\">\n",
       "  <thead>\n",
       "    <tr style=\"text-align: right;\">\n",
       "      <th></th>\n",
       "      <th>Date</th>\n",
       "      <th>Amount</th>\n",
       "    </tr>\n",
       "  </thead>\n",
       "  <tbody>\n",
       "    <tr>\n",
       "      <th>0</th>\n",
       "      <td>25May2016</td>\n",
       "      <td>54241.35</td>\n",
       "    </tr>\n",
       "    <tr>\n",
       "      <th>1</th>\n",
       "      <td>29May2017</td>\n",
       "      <td>54008.83</td>\n",
       "    </tr>\n",
       "    <tr>\n",
       "      <th>2</th>\n",
       "      <td>30Jun2017</td>\n",
       "      <td>54008.82</td>\n",
       "    </tr>\n",
       "    <tr>\n",
       "      <th>3</th>\n",
       "      <td>05Jan2017</td>\n",
       "      <td>52704.37</td>\n",
       "    </tr>\n",
       "  </tbody>\n",
       "</table>\n",
       "</div>"
      ],
      "text/plain": [
       "        Date    Amount\n",
       "0  25May2016  54241.35\n",
       "1  29May2017  54008.83\n",
       "2  30Jun2017  54008.82\n",
       "3  05Jan2017  52704.37"
      ]
     },
     "execution_count": 165,
     "metadata": {},
     "output_type": "execute_result"
    }
   ],
   "source": [
    "df = pd.read_csv('anonymized.csv')\n",
    "df.head(4)"
   ]
  },
  {
   "cell_type": "markdown",
   "metadata": {},
   "source": [
    "### Transaction data preprocessing\n",
    "\n",
    "I'll make a bunch of new columns we can use."
   ]
  },
  {
   "cell_type": "code",
   "execution_count": 323,
   "metadata": {
    "collapsed": false
   },
   "outputs": [
    {
     "data": {
      "text/html": [
       "<div>\n",
       "<style>\n",
       "    .dataframe thead tr:only-child th {\n",
       "        text-align: right;\n",
       "    }\n",
       "\n",
       "    .dataframe thead th {\n",
       "        text-align: left;\n",
       "    }\n",
       "\n",
       "    .dataframe tbody tr th {\n",
       "        vertical-align: top;\n",
       "    }\n",
       "</style>\n",
       "<table border=\"1\" class=\"dataframe\">\n",
       "  <thead>\n",
       "    <tr style=\"text-align: right;\">\n",
       "      <th></th>\n",
       "      <th>Date</th>\n",
       "      <th>Amount</th>\n",
       "      <th>rendered_date</th>\n",
       "      <th>day</th>\n",
       "      <th>month</th>\n",
       "      <th>month_year</th>\n",
       "      <th>year</th>\n",
       "      <th>day_of_week</th>\n",
       "    </tr>\n",
       "  </thead>\n",
       "  <tbody>\n",
       "    <tr>\n",
       "      <th>0</th>\n",
       "      <td>25May2016</td>\n",
       "      <td>54241.35</td>\n",
       "      <td>2016-05-25</td>\n",
       "      <td>25</td>\n",
       "      <td>5</td>\n",
       "      <td>(5, 2016)</td>\n",
       "      <td>2016</td>\n",
       "      <td>2</td>\n",
       "    </tr>\n",
       "    <tr>\n",
       "      <th>1</th>\n",
       "      <td>29May2017</td>\n",
       "      <td>54008.83</td>\n",
       "      <td>2017-05-29</td>\n",
       "      <td>29</td>\n",
       "      <td>5</td>\n",
       "      <td>(5, 2017)</td>\n",
       "      <td>2017</td>\n",
       "      <td>0</td>\n",
       "    </tr>\n",
       "    <tr>\n",
       "      <th>2</th>\n",
       "      <td>30Jun2017</td>\n",
       "      <td>54008.82</td>\n",
       "      <td>2017-06-30</td>\n",
       "      <td>30</td>\n",
       "      <td>6</td>\n",
       "      <td>(6, 2017)</td>\n",
       "      <td>2017</td>\n",
       "      <td>4</td>\n",
       "    </tr>\n",
       "  </tbody>\n",
       "</table>\n",
       "</div>"
      ],
      "text/plain": [
       "        Date    Amount rendered_date  day  month month_year  year  day_of_week\n",
       "0  25May2016  54241.35    2016-05-25   25      5  (5, 2016)  2016            2\n",
       "1  29May2017  54008.83    2017-05-29   29      5  (5, 2017)  2017            0\n",
       "2  30Jun2017  54008.82    2017-06-30   30      6  (6, 2017)  2017            4"
      ]
     },
     "execution_count": 323,
     "metadata": {},
     "output_type": "execute_result"
    }
   ],
   "source": [
    "df['rendered_date'] = pd.to_datetime(df['Date'], \n",
    "                                     errors = 'coerce', \n",
    "                                     format ='%d%b%Y')\n",
    "\n",
    "df['day'] = df['rendered_date'].dt.day\n",
    "df['month'] = df['rendered_date'].dt.month\n",
    "df['month_year'] = df['rendered_date'].map(lambda x: (x.month, x.year))\n",
    "df['year'] = df['rendered_date'].dt.year\n",
    "\n",
    "df['day_of_week'] = [date(row.year, row.month, row.day).weekday() \n",
    "                                       for row in df.itertuples()]\n",
    "df.head(3)"
   ]
  },
  {
   "cell_type": "code",
   "execution_count": 386,
   "metadata": {
    "collapsed": false
   },
   "outputs": [
    {
     "name": "stdout",
     "output_type": "stream",
     "text": [
      "Largest deposit: 54241.35\n",
      "Largest withdrawal: -41054.95\n",
      "Median transaction: -260.00\n",
      "25th percentile: -890.75\n",
      "75th percentile: -61.92\n"
     ]
    }
   ],
   "source": [
    "print(\"Largest deposit: %.2f\" % max(df.Amount))\n",
    "print(\"Largest withdrawal: %.2f\" % min(df.Amount))\n",
    "print(\"Median transaction: %.2f\" % np.median(df.Amount))\n",
    "print(\"25th percentile: %.2f\" % np.percentile(df.Amount, 25))\n",
    "print(\"75th percentile: %.2f\" % np.percentile(df.Amount, 75))"
   ]
  },
  {
   "cell_type": "markdown",
   "metadata": {},
   "source": [
    "Our victim is inclined towards withdrawals — good for us. But the deposit amounts are really untidy: there's a huuuuge range, with the most mass tucked between pretty narrow bounds (the 25th and 75th percentiles are very close to the medians, whereas the max and min are orders of magnitude away in both directions). We'll have to transform this variable: I'll take the log."
   ]
  },
  {
   "cell_type": "code",
   "execution_count": 455,
   "metadata": {
    "collapsed": false
   },
   "outputs": [
    {
     "data": {
      "text/html": [
       "<div>\n",
       "<style>\n",
       "    .dataframe thead tr:only-child th {\n",
       "        text-align: right;\n",
       "    }\n",
       "\n",
       "    .dataframe thead th {\n",
       "        text-align: left;\n",
       "    }\n",
       "\n",
       "    .dataframe tbody tr th {\n",
       "        vertical-align: top;\n",
       "    }\n",
       "</style>\n",
       "<table border=\"1\" class=\"dataframe\">\n",
       "  <thead>\n",
       "    <tr style=\"text-align: right;\">\n",
       "      <th></th>\n",
       "      <th>Date</th>\n",
       "      <th>Amount</th>\n",
       "      <th>rendered_date</th>\n",
       "      <th>day</th>\n",
       "      <th>month</th>\n",
       "      <th>month_year</th>\n",
       "      <th>year</th>\n",
       "      <th>day_of_week</th>\n",
       "      <th>log_amount</th>\n",
       "    </tr>\n",
       "  </thead>\n",
       "  <tbody>\n",
       "    <tr>\n",
       "      <th>0</th>\n",
       "      <td>25May2016</td>\n",
       "      <td>54241.35</td>\n",
       "      <td>2016-05-25</td>\n",
       "      <td>25</td>\n",
       "      <td>5</td>\n",
       "      <td>(5, 2016)</td>\n",
       "      <td>2016</td>\n",
       "      <td>2</td>\n",
       "      <td>11.464757</td>\n",
       "    </tr>\n",
       "    <tr>\n",
       "      <th>1</th>\n",
       "      <td>29May2017</td>\n",
       "      <td>54008.83</td>\n",
       "      <td>2017-05-29</td>\n",
       "      <td>29</td>\n",
       "      <td>5</td>\n",
       "      <td>(5, 2017)</td>\n",
       "      <td>2017</td>\n",
       "      <td>0</td>\n",
       "      <td>11.462314</td>\n",
       "    </tr>\n",
       "    <tr>\n",
       "      <th>2</th>\n",
       "      <td>30Jun2017</td>\n",
       "      <td>54008.82</td>\n",
       "      <td>2017-06-30</td>\n",
       "      <td>30</td>\n",
       "      <td>6</td>\n",
       "      <td>(6, 2017)</td>\n",
       "      <td>2017</td>\n",
       "      <td>4</td>\n",
       "      <td>11.462314</td>\n",
       "    </tr>\n",
       "    <tr>\n",
       "      <th>3</th>\n",
       "      <td>05Jan2017</td>\n",
       "      <td>52704.37</td>\n",
       "      <td>2017-01-05</td>\n",
       "      <td>5</td>\n",
       "      <td>1</td>\n",
       "      <td>(1, 2017)</td>\n",
       "      <td>2017</td>\n",
       "      <td>3</td>\n",
       "      <td>11.448497</td>\n",
       "    </tr>\n",
       "    <tr>\n",
       "      <th>4</th>\n",
       "      <td>23Feb2017</td>\n",
       "      <td>52704.36</td>\n",
       "      <td>2017-02-23</td>\n",
       "      <td>23</td>\n",
       "      <td>2</td>\n",
       "      <td>(2, 2017)</td>\n",
       "      <td>2017</td>\n",
       "      <td>3</td>\n",
       "      <td>11.448497</td>\n",
       "    </tr>\n",
       "  </tbody>\n",
       "</table>\n",
       "</div>"
      ],
      "text/plain": [
       "        Date    Amount rendered_date  day  month month_year  year  \\\n",
       "0  25May2016  54241.35    2016-05-25   25      5  (5, 2016)  2016   \n",
       "1  29May2017  54008.83    2017-05-29   29      5  (5, 2017)  2017   \n",
       "2  30Jun2017  54008.82    2017-06-30   30      6  (6, 2017)  2017   \n",
       "3  05Jan2017  52704.37    2017-01-05    5      1  (1, 2017)  2017   \n",
       "4  23Feb2017  52704.36    2017-02-23   23      2  (2, 2017)  2017   \n",
       "\n",
       "   day_of_week  log_amount  \n",
       "0            2   11.464757  \n",
       "1            0   11.462314  \n",
       "2            4   11.462314  \n",
       "3            3   11.448497  \n",
       "4            3   11.448497  "
      ]
     },
     "execution_count": 455,
     "metadata": {},
     "output_type": "execute_result"
    }
   ],
   "source": [
    "# Shift amounts to natural numbers\n",
    "positive_transformation = min(df.Amount) - 1.0\n",
    "df['log_amount'] = df.Amount - positive_transformation\n",
    "\n",
    "# Take log of positive-shifted amounts\n",
    "df['log_amount'] = np.log(df.log_amount)\n",
    "df['log_amount'] = df.log_amount.replace(0, None).dropna()\n",
    "df.head()"
   ]
  },
  {
   "cell_type": "markdown",
   "metadata": {},
   "source": [
    "### Density Modeling"
   ]
  },
  {
   "cell_type": "code",
   "execution_count": 486,
   "metadata": {
    "collapsed": false
   },
   "outputs": [],
   "source": [
    "FIGSIZE = (10, 8)\n",
    "\n",
    "def make_density(series, title, bins, bw, loc): \n",
    "    '''Fit kernel density and make plot.'''\n",
    "    \n",
    "    data = series.values.reshape(-1, 1)\n",
    "    \n",
    "    kde = KernelDensity(kernel='gaussian', bandwidth=bw)\n",
    "    kde.fit(data)\n",
    "\n",
    "    all_x = np.linspace(min(data), max(data), 100).reshape((-1, 1))\n",
    "    density = np.exp(kde.score_samples(all_x))\n",
    "\n",
    "    axes = series.hist(bins=bins, \n",
    "                       normed=True, \n",
    "                       figsize=FIGSIZE, \n",
    "                       alpha=0.5,\n",
    "                       edgecolor=\"r\", \n",
    "                       linewidth=1,\n",
    "                       fc='#AAAAFF',\n",
    "                       ax=loc)\n",
    "    \n",
    "    axes.plot(all_x, density, \n",
    "              color='g', \n",
    "              label='Density')\n",
    "    \n",
    "    plt.legend(fontsize=12)\n",
    "    plt.xlabel(title, size=12)\n",
    "    plt.ylabel('Frequency', size=12)\n",
    "    plt.title(title)\n",
    "    \n",
    "    return kde"
   ]
  },
  {
   "cell_type": "code",
   "execution_count": 487,
   "metadata": {
    "collapsed": false
   },
   "outputs": [
    {
     "data": {
      "image/png": "[encoded data removed]",
      "text/plain": [
       "<matplotlib.figure.Figure at 0x1a27b588d0>"
      ]
     },
     "metadata": {},
     "output_type": "display_data"
    }
   ],
   "source": [
    "plt.figure(figsize=(2, 2))\n",
    "gs = gridspec.GridSpec(2, 2, wspace=0.5, hspace=0.5)\n",
    "\n",
    "mon = df.groupby(['month_year'], as_index=False).count()\n",
    "\n",
    "by_month = make_density(mon.iloc[:,1], \n",
    "                        \"Number of transactions in a month\", \n",
    "                        bins=10,\n",
    "                        bw=5,\n",
    "                        loc=plt.subplot(gs[0, 0]))\n",
    "\n",
    "day_month = make_density(df.day, \n",
    "                         \"Transactions by day of the month\", \n",
    "                         bins=15,\n",
    "                         bw=3,\n",
    "                         loc=plt.subplot(gs[0, 1]))\n",
    "\n",
    "day_week = make_density(df.day_of_week,\n",
    "                        \"Transactions by day of the week\",\n",
    "                        bins=7,\n",
    "                        bw=.5,\n",
    "                        loc=plt.subplot(gs[1, 0]))\n",
    "\n",
    "size = make_density(df.log_amount,\n",
    "                    \"Transactions by (log) transaction size\",\n",
    "                    bins=20,\n",
    "                    bw=0.1,\n",
    "                    loc=plt.subplot(gs[1, 1]))"
   ]
  },
  {
   "cell_type": "markdown",
   "metadata": {},
   "source": [
    "The histogram for transactions by day of the week is funny: there are seven days of the week, but one bin is missing. Sure enough..."
   ]
  },
  {
   "cell_type": "code",
   "execution_count": 464,
   "metadata": {
    "collapsed": false
   },
   "outputs": [
    {
     "data": {
      "text/html": [
       "<div>\n",
       "<style>\n",
       "    .dataframe thead tr:only-child th {\n",
       "        text-align: right;\n",
       "    }\n",
       "\n",
       "    .dataframe thead th {\n",
       "        text-align: left;\n",
       "    }\n",
       "\n",
       "    .dataframe tbody tr th {\n",
       "        vertical-align: top;\n",
       "    }\n",
       "</style>\n",
       "<table border=\"1\" class=\"dataframe\">\n",
       "  <thead>\n",
       "    <tr style=\"text-align: right;\">\n",
       "      <th></th>\n",
       "      <th>day_of_week</th>\n",
       "      <th>Amount</th>\n",
       "    </tr>\n",
       "  </thead>\n",
       "  <tbody>\n",
       "    <tr>\n",
       "      <th>0</th>\n",
       "      <td>0</td>\n",
       "      <td>571</td>\n",
       "    </tr>\n",
       "    <tr>\n",
       "      <th>1</th>\n",
       "      <td>1</td>\n",
       "      <td>495</td>\n",
       "    </tr>\n",
       "    <tr>\n",
       "      <th>2</th>\n",
       "      <td>2</td>\n",
       "      <td>384</td>\n",
       "    </tr>\n",
       "    <tr>\n",
       "      <th>3</th>\n",
       "      <td>3</td>\n",
       "      <td>370</td>\n",
       "    </tr>\n",
       "    <tr>\n",
       "      <th>4</th>\n",
       "      <td>4</td>\n",
       "      <td>356</td>\n",
       "    </tr>\n",
       "    <tr>\n",
       "      <th>5</th>\n",
       "      <td>5</td>\n",
       "      <td>342</td>\n",
       "    </tr>\n",
       "  </tbody>\n",
       "</table>\n",
       "</div>"
      ],
      "text/plain": [
       "   day_of_week  Amount\n",
       "0            0     571\n",
       "1            1     495\n",
       "2            2     384\n",
       "3            3     370\n",
       "4            4     356\n",
       "5            5     342"
      ]
     },
     "execution_count": 464,
     "metadata": {},
     "output_type": "execute_result"
    }
   ],
   "source": [
    "df.groupby('day_of_week', as_index=False).count()[['day_of_week', 'Amount']]"
   ]
  },
  {
   "cell_type": "markdown",
   "metadata": {},
   "source": [
    "Only six days of the week have transaction counts — nothing on Sunday (which would be day 6)! Bank's closed. "
   ]
  },
  {
   "cell_type": "markdown",
   "metadata": {},
   "source": [
    "### Transaction simulation\n",
    "\n",
    "TIME TO COMMIT THE CRIME!"
   ]
  },
  {
   "cell_type": "code",
   "execution_count": 606,
   "metadata": {
    "collapsed": false
   },
   "outputs": [
    {
     "name": "stdout",
     "output_type": "stream",
     "text": [
      "In our month of crime, we'll make 66 fraudulent transactions:\n",
      "\t Day 1, transact 1939.86 USD\n",
      "\t Day 1, transact 2797.35 USD\n",
      "\t Day 1, transact -5200.40 USD\n",
      "\t Day 1, transact -5428.08 USD\n",
      "\t Day 1, transact 16970.15 USD\n",
      "\t Day 1, transact -951.61 USD\n",
      "\t Day 1, transact -7617.50 USD\n",
      "\t Day 2, transact 2901.08 USD\n",
      "\t Day 2, transact 7874.21 USD\n",
      "\t Day 2, transact -133.29 USD\n",
      "\t Day 3, transact 3767.68 USD\n",
      "\t Day 4, transact 2037.57 USD\n",
      "\t Day 4, transact -5273.23 USD\n",
      "\t Day 4, transact -2985.82 USD\n",
      "\t Day 5, transact 871.51 USD\n",
      "\t Day 6, transact 10015.91 USD\n",
      "\t Day 7, transact 837.48 USD\n",
      "\t Day 8, transact -3897.51 USD\n",
      "\t Day 9, transact -15629.61 USD\n",
      "\t Day 9, transact 4253.71 USD\n",
      "\t Day 9, transact 22217.46 USD\n",
      "\t Day 11, transact 1358.65 USD\n",
      "\t Day 12, transact 12757.65 USD\n",
      "\t Day 12, transact -3330.91 USD\n",
      "\t Day 12, transact -11330.12 USD\n",
      "\t Day 12, transact -2843.61 USD\n",
      "\t Day 12, transact -7854.34 USD\n",
      "\t Day 13, transact -735.58 USD\n",
      "\t Day 15, transact -4217.03 USD\n",
      "\t Day 16, transact -1855.50 USD\n",
      "\t Day 16, transact 598.66 USD\n",
      "\t Day 17, transact 3425.36 USD\n",
      "\t Day 17, transact -1912.90 USD\n",
      "\t Day 17, transact 4959.41 USD\n",
      "\t Day 17, transact -963.26 USD\n",
      "\t Day 18, transact 1377.25 USD\n",
      "\t Day 18, transact -8892.20 USD\n",
      "\t Day 20, transact 9711.58 USD\n",
      "\t Day 21, transact -1711.62 USD\n",
      "\t Day 21, transact 56175.88 USD\n",
      "\t Day 22, transact -841.78 USD\n",
      "\t Day 22, transact 3784.33 USD\n",
      "\t Day 23, transact -6198.76 USD\n",
      "\t Day 23, transact -1771.29 USD\n",
      "\t Day 23, transact -145.96 USD\n",
      "\t Day 23, transact 339.61 USD\n",
      "\t Day 23, transact 158.17 USD\n",
      "\t Day 24, transact -4431.59 USD\n",
      "\t Day 24, transact 17701.21 USD\n",
      "\t Day 25, transact 16.95 USD\n",
      "\t Day 26, transact -14514.74 USD\n",
      "\t Day 26, transact 9134.08 USD\n",
      "\t Day 27, transact -1433.07 USD\n",
      "\t Day 27, transact -2619.05 USD\n",
      "\t Day 27, transact -2335.21 USD\n",
      "\t Day 28, transact 7076.88 USD\n",
      "\t Day 28, transact -5491.80 USD\n",
      "\t Day 28, transact -5169.67 USD\n",
      "\t Day 28, transact 1168.48 USD\n",
      "\t Day 29, transact -2752.50 USD\n",
      "\t Day 29, transact -2022.46 USD\n",
      "\t Day 29, transact -3725.70 USD\n",
      "\t Day 29, transact 2027.91 USD\n",
      "\t Day 31, transact 5378.19 USD\n",
      "\t Day 31, transact -19266.63 USD\n",
      "\t Day 31, transact 12440.97 USD\n"
     ]
    }
   ],
   "source": [
    "transaction_num = int(by_month.sample())\n",
    "days_of_crime = np.clip(sorted(day_month.sample(transaction_num)), 1, 31)\n",
    "amounts = np.exp(size.sample(transaction_num)) + positive_transformation\n",
    "\n",
    "crimes = zip([int(d) for d in days_of_crime], amounts)\n",
    "\n",
    "print(\"In our month of crime, we'll make %0.f fraudulent transactions:\" \n",
    "      % transaction_num)\n",
    "\n",
    "for date, amount in crimes:\n",
    "    print(\"\\t Day %.f, transact %.2f USD\" %\n",
    "            (date, amount))"
   ]
  },
  {
   "cell_type": "markdown",
   "metadata": {},
   "source": [
    "Outstanding weaknesses in this model: \n",
    "- The kernel density estimator occasionally extrapolates, assuming an unrealistic support. For example, sometimes samples from the day-of-month kernel density estimate are negative (barely — rarely lower than -5, if anything) or greater than 31. I band-aided over this by clipping off any samples < 0 or > 31. Obviously, there isn't a -2nd or 33rd day of any month.\n",
    "- It's having me make deposits a good amount of the time. Perhaps that makes me a very subtle criminal, but I don't think a very standard one.\n",
    "- It assumes that these variables are independent! They are certainly not. As we know, the day of week — not merely the day of month — is a consequential variable, and these aren't independent. At present, I can only sample from one of these distributions at a time (above, we see day-of-month samples). But furthermore, above we see multiple transactions on the same day. As evidenced in the following cell, perhaps this isn't unheard of, but more than 2 per day — and perhaps for multiple days in a row — could be rather suspicious."
   ]
  },
  {
   "cell_type": "code",
   "execution_count": 607,
   "metadata": {
    "collapsed": false
   },
   "outputs": [
    {
     "name": "stdout",
     "output_type": "stream",
     "text": [
      "Max. transactions in one day: 15\n",
      "Median transactions in one day: 2\n"
     ]
    }
   ],
   "source": [
    "multiple_trans = df.groupby('Date', as_index=False).count().iloc[:,1]\n",
    "\n",
    "print(\"Max. transactions in one day: %.f\" % max(multiple_trans))\n",
    "print(\"Median transactions in one day: %.f\" % \n",
    "      np.percentile(multiple_trans, 50))"
   ]
  },
  {
   "cell_type": "markdown",
   "metadata": {},
   "source": [
    "- We do see, however, that even this one sample seems to adhere to Benford's law relatively well (at least for the first three digits). On average, I'd imagine we'd see strong adherence:"
   ]
  },
  {
   "cell_type": "code",
   "execution_count": 610,
   "metadata": {
    "collapsed": false
   },
   "outputs": [
    {
     "name": "stdout",
     "output_type": "stream",
     "text": [
      "0.333 percent of sampled transactions amounts start with digit 1\n",
      "0.167 percent of sampled transactions amounts start with digit 2\n",
      "0.106 percent of sampled transactions amounts start with digit 3\n",
      "0.061 percent of sampled transactions amounts start with digit 4\n",
      "0.121 percent of sampled transactions amounts start with digit 5\n",
      "0.015 percent of sampled transactions amounts start with digit 6\n",
      "0.076 percent of sampled transactions amounts start with digit 7\n",
      "0.061 percent of sampled transactions amounts start with digit 8\n",
      "0.061 percent of sampled transactions amounts start with digit 9\n"
     ]
    }
   ],
   "source": [
    "for digit in range(1, 10):\n",
    "    \n",
    "    starting_dig = sum([1 for a in amounts.reshape(amounts.shape[0],) \n",
    "                            if str(abs(a))[0] == str(digit)])\n",
    "    \n",
    "    print(\"%.3f percent of sampled transactions amounts start with digit %.f\" %\n",
    "             (starting_dig / len(amounts), digit))\n"
   ]
  }
 ],
 "metadata": {
  "kernelspec": {
   "display_name": "Python 2",
   "language": "python",
   "name": "python2"
  },
  "language_info": {
   "codemirror_mode": {
    "name": "ipython",
    "version": 2
   },
   "file_extension": ".py",
   "mimetype": "text/x-python",
   "name": "python",
   "nbconvert_exporter": "python",
   "pygments_lexer": "ipython2",
   "version": "2.7.13"
  }
 },
 "nbformat": 4,
 "nbformat_minor": 2
}
